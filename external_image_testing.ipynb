{
 "cells": [
  {
   "cell_type": "code",
   "execution_count": 1,
   "id": "13598e78",
   "metadata": {},
   "outputs": [],
   "source": [
    "import os\n",
    "import zipfile\n",
    "from PIL import Image\n",
    "import csv\n",
    "import numpy as np\n",
    "import pandas as pd\n",
    "from keras.models import load_model\n",
    "import tensorflow as tf\n",
    "import tensorflow_addons as tfa\n",
    "from tensorflow.keras.preprocessing import image\n",
    "from sklearn.metrics import classification_report, confusion_matrix"
   ]
  },
  {
   "cell_type": "code",
   "execution_count": 2,
   "id": "2fcc9f77",
   "metadata": {},
   "outputs": [],
   "source": [
    "import warnings \n",
    "warnings.filterwarnings(\"ignore\")"
   ]
  },
  {
   "cell_type": "code",
   "execution_count": 3,
   "id": "c58633ad",
   "metadata": {},
   "outputs": [],
   "source": [
    "# unzipping the dataset of images\n",
    "with zipfile.ZipFile('./ML_TESTING.zip', 'r') as zip_ref:\n",
    "        zip_ref.extractall('./')"
   ]
  },
  {
   "cell_type": "code",
   "execution_count": 4,
   "id": "3e16bd58",
   "metadata": {},
   "outputs": [],
   "source": [
    "imgs = [img for img in os.listdir('./ML_TESTING') if img.endswith('.ppm')]\n",
    "for img in imgs:\n",
    "    img_name = img\n",
    "    path = './ML_TESTING/' + img_name\n",
    "    img = Image.open(path)\n",
    "    # converting image to grayscale\n",
    "    img = img.convert(\"L\")\n",
    "    # resizing image to 28x28\n",
    "    img = img.resize((28,28))\n",
    "    # saving image as png\n",
    "    name = './external_images/' + img_name.split('.ppm')[0] + '.png'\n",
    "    img.save(name)"
   ]
  },
  {
   "cell_type": "code",
   "execution_count": 5,
   "id": "b68d1130",
   "metadata": {},
   "outputs": [],
   "source": [
    "header = ['img_path', 'shape_pred', 'type_pred']\n",
    "csv_data = []\n",
    "imgs = [img for img in os.listdir('./external_images') if img.endswith('.png')]\n",
    "for img in imgs:\n",
    "    path = './external_images/' + img\n",
    "    row = [path]\n",
    "    csv_data.append(row)"
   ]
  },
  {
   "cell_type": "code",
   "execution_count": 6,
   "id": "f077b789",
   "metadata": {},
   "outputs": [],
   "source": [
    "#writing collected data to the csv file\n",
    "with open('./external_data.csv', 'w', encoding='UTF8', newline='') as f:\n",
    "        writer = csv.writer(f)\n",
    "        # write the header\n",
    "        writer.writerow(header)\n",
    "        # write multiple rows\n",
    "        writer.writerows(csv_data)"
   ]
  },
  {
   "cell_type": "code",
   "execution_count": 7,
   "id": "0cffdab9",
   "metadata": {},
   "outputs": [],
   "source": [
    "df = pd.read_csv('./external_data.csv')"
   ]
  },
  {
   "cell_type": "code",
   "execution_count": 8,
   "id": "d0681e13",
   "metadata": {},
   "outputs": [
    {
     "data": {
      "text/plain": [
       "(104, 3)"
      ]
     },
     "execution_count": 8,
     "metadata": {},
     "output_type": "execute_result"
    }
   ],
   "source": [
    "df.shape"
   ]
  },
  {
   "cell_type": "code",
   "execution_count": 9,
   "id": "3b3461f1",
   "metadata": {},
   "outputs": [
    {
     "data": {
      "text/html": [
       "<div>\n",
       "<style scoped>\n",
       "    .dataframe tbody tr th:only-of-type {\n",
       "        vertical-align: middle;\n",
       "    }\n",
       "\n",
       "    .dataframe tbody tr th {\n",
       "        vertical-align: top;\n",
       "    }\n",
       "\n",
       "    .dataframe thead th {\n",
       "        text-align: right;\n",
       "    }\n",
       "</style>\n",
       "<table border=\"1\" class=\"dataframe\">\n",
       "  <thead>\n",
       "    <tr style=\"text-align: right;\">\n",
       "      <th></th>\n",
       "      <th>img_path</th>\n",
       "      <th>shape_pred</th>\n",
       "      <th>type_pred</th>\n",
       "    </tr>\n",
       "  </thead>\n",
       "  <tbody>\n",
       "    <tr>\n",
       "      <th>0</th>\n",
       "      <td>./external_images/00132.png</td>\n",
       "      <td>NaN</td>\n",
       "      <td>NaN</td>\n",
       "    </tr>\n",
       "    <tr>\n",
       "      <th>1</th>\n",
       "      <td>./external_images/00085.png</td>\n",
       "      <td>NaN</td>\n",
       "      <td>NaN</td>\n",
       "    </tr>\n",
       "    <tr>\n",
       "      <th>2</th>\n",
       "      <td>./external_images/00052.png</td>\n",
       "      <td>NaN</td>\n",
       "      <td>NaN</td>\n",
       "    </tr>\n",
       "    <tr>\n",
       "      <th>3</th>\n",
       "      <td>./external_images/00251.png</td>\n",
       "      <td>NaN</td>\n",
       "      <td>NaN</td>\n",
       "    </tr>\n",
       "    <tr>\n",
       "      <th>4</th>\n",
       "      <td>./external_images/00053.png</td>\n",
       "      <td>NaN</td>\n",
       "      <td>NaN</td>\n",
       "    </tr>\n",
       "  </tbody>\n",
       "</table>\n",
       "</div>"
      ],
      "text/plain": [
       "                      img_path  shape_pred  type_pred\n",
       "0  ./external_images/00132.png         NaN        NaN\n",
       "1  ./external_images/00085.png         NaN        NaN\n",
       "2  ./external_images/00052.png         NaN        NaN\n",
       "3  ./external_images/00251.png         NaN        NaN\n",
       "4  ./external_images/00053.png         NaN        NaN"
      ]
     },
     "execution_count": 9,
     "metadata": {},
     "output_type": "execute_result"
    }
   ],
   "source": [
    "df.head()"
   ]
  },
  {
   "cell_type": "code",
   "execution_count": 10,
   "id": "92c5b59b",
   "metadata": {},
   "outputs": [],
   "source": [
    "dt = pd.read_csv('./external_images_actual.csv')"
   ]
  },
  {
   "cell_type": "code",
   "execution_count": 11,
   "id": "fe9fda1d",
   "metadata": {},
   "outputs": [
    {
     "data": {
      "text/html": [
       "<div>\n",
       "<style scoped>\n",
       "    .dataframe tbody tr th:only-of-type {\n",
       "        vertical-align: middle;\n",
       "    }\n",
       "\n",
       "    .dataframe tbody tr th {\n",
       "        vertical-align: top;\n",
       "    }\n",
       "\n",
       "    .dataframe thead th {\n",
       "        text-align: right;\n",
       "    }\n",
       "</style>\n",
       "<table border=\"1\" class=\"dataframe\">\n",
       "  <thead>\n",
       "    <tr style=\"text-align: right;\">\n",
       "      <th></th>\n",
       "      <th>img_id</th>\n",
       "      <th>sign_shape</th>\n",
       "      <th>sign_type</th>\n",
       "    </tr>\n",
       "  </thead>\n",
       "  <tbody>\n",
       "    <tr>\n",
       "      <th>0</th>\n",
       "      <td>00094.png</td>\n",
       "      <td>0</td>\n",
       "      <td>0</td>\n",
       "    </tr>\n",
       "    <tr>\n",
       "      <th>1</th>\n",
       "      <td>00226.png</td>\n",
       "      <td>0</td>\n",
       "      <td>0</td>\n",
       "    </tr>\n",
       "    <tr>\n",
       "      <th>2</th>\n",
       "      <td>00225.png</td>\n",
       "      <td>0</td>\n",
       "      <td>0</td>\n",
       "    </tr>\n",
       "    <tr>\n",
       "      <th>3</th>\n",
       "      <td>00010.png</td>\n",
       "      <td>0</td>\n",
       "      <td>0</td>\n",
       "    </tr>\n",
       "    <tr>\n",
       "      <th>4</th>\n",
       "      <td>00007.png</td>\n",
       "      <td>0</td>\n",
       "      <td>0</td>\n",
       "    </tr>\n",
       "    <tr>\n",
       "      <th>5</th>\n",
       "      <td>00251.png</td>\n",
       "      <td>1</td>\n",
       "      <td>1</td>\n",
       "    </tr>\n",
       "    <tr>\n",
       "      <th>6</th>\n",
       "      <td>00132.png</td>\n",
       "      <td>1</td>\n",
       "      <td>1</td>\n",
       "    </tr>\n",
       "  </tbody>\n",
       "</table>\n",
       "</div>"
      ],
      "text/plain": [
       "      img_id  sign_shape  sign_type\n",
       "0  00094.png           0          0\n",
       "1  00226.png           0          0\n",
       "2  00225.png           0          0\n",
       "3  00010.png           0          0\n",
       "4  00007.png           0          0\n",
       "5  00251.png           1          1\n",
       "6  00132.png           1          1"
      ]
     },
     "execution_count": 11,
     "metadata": {},
     "output_type": "execute_result"
    }
   ],
   "source": [
    "dt.head(7)"
   ]
  },
  {
   "cell_type": "code",
   "execution_count": 12,
   "id": "3828ab88",
   "metadata": {},
   "outputs": [],
   "source": [
    "dt['sign_shape'] = dt['sign_shape'].astype('str')\n",
    "dt['sign_type'] = dt['sign_type'].astype('str')"
   ]
  },
  {
   "cell_type": "code",
   "execution_count": 13,
   "id": "68fb95a6",
   "metadata": {},
   "outputs": [
    {
     "data": {
      "text/plain": [
       "'./external_images/00132.png'"
      ]
     },
     "execution_count": 13,
     "metadata": {},
     "output_type": "execute_result"
    }
   ],
   "source": [
    "df['img_path'][0]"
   ]
  },
  {
   "cell_type": "code",
   "execution_count": 14,
   "id": "e83f07a5",
   "metadata": {},
   "outputs": [
    {
     "data": {
      "text/plain": [
       "'00132.png'"
      ]
     },
     "execution_count": 14,
     "metadata": {},
     "output_type": "execute_result"
    }
   ],
   "source": [
    "name = df['img_path'][0].split('/')[2]\n",
    "name"
   ]
  },
  {
   "cell_type": "code",
   "execution_count": 15,
   "id": "caa31818",
   "metadata": {},
   "outputs": [
    {
     "name": "stdout",
     "output_type": "stream",
     "text": [
      "60    4\n",
      "Name: sign_shape, dtype: object\n"
     ]
    }
   ],
   "source": [
    "name = '00019.png'\n",
    "s = dt[dt['img_id'] == name]\n",
    "print(s['sign_shape'])\n",
    "# s = s['sign_shape'].iloc[0]\n",
    "# print(int(s))"
   ]
  },
  {
   "cell_type": "code",
   "execution_count": 16,
   "id": "b755f4f8",
   "metadata": {},
   "outputs": [],
   "source": [
    "@tf.autograph.experimental.do_not_convert\n",
    "def make_predictions(model, to_predict):\n",
    "    predictions = []\n",
    "    actual = []\n",
    "    for i in range(df.shape[0]):\n",
    "        # loading the grayscale images\n",
    "        img_path = df['img_path'][i]\n",
    "        img = image.load_img(img_path, target_size=(28, 28), color_mode=\"grayscale\")\n",
    "        # creating a batch of one image each\n",
    "        img_array = image.img_to_array(img)\n",
    "        img_batch = np.expand_dims(img_array, axis=0)\n",
    "        # normalising pixel values\n",
    "        img_preprocessed = img_batch/255.0\n",
    "        # predicting\n",
    "        prediction = model.predict(img_preprocessed, verbose=0)\n",
    "        predicted_class = np.argmax(prediction)\n",
    "        predictions.append(predicted_class)\n",
    "        if (to_predict == \"shape\"):\n",
    "            df['shape_pred'] = predicted_class\n",
    "            img_id = df['img_path'][i].split('/')[2]\n",
    "            actual_shape = dt[dt['img_id'] == img_id]\n",
    "#             actual_shape = int(actual_shape)\n",
    "            actual_shape = actual_shape['sign_shape'].iloc[0]\n",
    "            actual.append(int(actual_shape))\n",
    "        else:\n",
    "            df['type_pred'] = predicted_class\n",
    "            img_id = df['img_path'][i].split('/')[2]\n",
    "            actual_type = dt[dt['img_id'] == img_id]\n",
    "#             actual_type = int(actual_type)\n",
    "            actual_type = actual_type['sign_type'].iloc[0]\n",
    "            actual.append(int(actual_type))\n",
    "    return predictions, actual"
   ]
  },
  {
   "cell_type": "code",
   "execution_count": 17,
   "id": "c13a33e7",
   "metadata": {},
   "outputs": [],
   "source": [
    "@tf.autograph.experimental.do_not_convert\n",
    "def print_confusion_matrix(predicted, actual, to_predict):\n",
    "    print(classification_report(actual, predicted))\n",
    "    if (to_predict == \"shape\"):\n",
    "        print(confusion_matrix(actual, predicted))\n",
    "    else:\n",
    "        labels = [0,1,4,5,6,7,8,9,10,12,13,15]\n",
    "        print(confusion_matrix(actual, predicted, labels=labels))"
   ]
  },
  {
   "cell_type": "code",
   "execution_count": 18,
   "id": "0b0f4623",
   "metadata": {},
   "outputs": [],
   "source": [
    "# Supressing all the warnings for the purpose of documentation\n",
    "import logging\n",
    "logging.getLogger(\"tensorflow\").setLevel(logging.ERROR)"
   ]
  },
  {
   "cell_type": "code",
   "execution_count": 19,
   "id": "07b4f527",
   "metadata": {
    "scrolled": true
   },
   "outputs": [
    {
     "name": "stdout",
     "output_type": "stream",
     "text": [
      "WARNING: AutoGraph could not transform <function Model.make_predict_function.<locals>.predict_function at 0x7f900252df80> and will run it as-is.\n",
      "Please report this to the TensorFlow team. When filing the bug, set the verbosity to 10 (on Linux, `export AUTOGRAPH_VERBOSITY=10`) and attach the full output.\n",
      "Cause: 'arguments' object has no attribute 'posonlyargs'\n",
      "To silence this warning, decorate the function with @tf.autograph.experimental.do_not_convert\n"
     ]
    }
   ],
   "source": [
    "# loading the saved model\n",
    "model = load_model(\"./model_lenet.h5\")\n",
    "model_lenet_predictions, actual = make_predictions(model, \"shape\")"
   ]
  },
  {
   "cell_type": "code",
   "execution_count": 20,
   "id": "438a314b",
   "metadata": {
    "scrolled": true
   },
   "outputs": [
    {
     "data": {
      "text/plain": [
       "dtype('int64')"
      ]
     },
     "execution_count": 20,
     "metadata": {},
     "output_type": "execute_result"
    }
   ],
   "source": [
    "model_lenet_predictions[0].dtype"
   ]
  },
  {
   "cell_type": "code",
   "execution_count": 21,
   "id": "033cd63a",
   "metadata": {},
   "outputs": [
    {
     "name": "stdout",
     "output_type": "stream",
     "text": [
      "              precision    recall  f1-score   support\n",
      "\n",
      "           0       0.33      0.40      0.36         5\n",
      "           1       0.50      0.71      0.59         7\n",
      "           2       0.00      0.00      0.00         3\n",
      "           3       0.86      0.86      0.86        37\n",
      "           4       0.78      0.67      0.72        52\n",
      "\n",
      "    accuracy                           0.71       104\n",
      "   macro avg       0.50      0.53      0.51       104\n",
      "weighted avg       0.75      0.71      0.73       104\n",
      "\n",
      "[[ 2  0  0  0  3]\n",
      " [ 1  5  0  0  1]\n",
      " [ 1  0  0  0  2]\n",
      " [ 1  0  0 32  4]\n",
      " [ 1  5  6  5 35]]\n"
     ]
    }
   ],
   "source": [
    "print_confusion_matrix(model_lenet_predictions, actual, \"shape\")"
   ]
  },
  {
   "cell_type": "code",
   "execution_count": 22,
   "id": "0f800030",
   "metadata": {
    "scrolled": true
   },
   "outputs": [
    {
     "name": "stdout",
     "output_type": "stream",
     "text": [
      "WARNING: AutoGraph could not transform <function Model.make_predict_function.<locals>.predict_function at 0x7f9002d1a9e0> and will run it as-is.\n",
      "Please report this to the TensorFlow team. When filing the bug, set the verbosity to 10 (on Linux, `export AUTOGRAPH_VERBOSITY=10`) and attach the full output.\n",
      "Cause: 'arguments' object has no attribute 'posonlyargs'\n",
      "To silence this warning, decorate the function with @tf.autograph.experimental.do_not_convert\n"
     ]
    }
   ],
   "source": [
    "# loading the saved model\n",
    "model = load_model(\"./model_lenet2.h5\")\n",
    "model_lenet2_predictions, actual = make_predictions(model, \"shape\")"
   ]
  },
  {
   "cell_type": "code",
   "execution_count": 23,
   "id": "9eada679",
   "metadata": {},
   "outputs": [
    {
     "name": "stdout",
     "output_type": "stream",
     "text": [
      "              precision    recall  f1-score   support\n",
      "\n",
      "           0       0.80      0.80      0.80         5\n",
      "           1       1.00      0.43      0.60         7\n",
      "           2       0.17      0.33      0.22         3\n",
      "           3       0.72      0.78      0.75        37\n",
      "           4       0.76      0.73      0.75        52\n",
      "\n",
      "    accuracy                           0.72       104\n",
      "   macro avg       0.69      0.62      0.62       104\n",
      "weighted avg       0.75      0.72      0.73       104\n",
      "\n",
      "[[ 4  0  0  0  1]\n",
      " [ 0  3  0  0  4]\n",
      " [ 0  0  1  0  2]\n",
      " [ 1  0  2 29  5]\n",
      " [ 0  0  3 11 38]]\n"
     ]
    }
   ],
   "source": [
    "print_confusion_matrix(model_lenet2_predictions, actual, \"shape\")"
   ]
  },
  {
   "cell_type": "code",
   "execution_count": 24,
   "id": "a979ffa5",
   "metadata": {
    "scrolled": true
   },
   "outputs": [
    {
     "name": "stdout",
     "output_type": "stream",
     "text": [
      "WARNING: AutoGraph could not transform <function Model.make_predict_function.<locals>.predict_function at 0x7f90025ce8c0> and will run it as-is.\n",
      "Please report this to the TensorFlow team. When filing the bug, set the verbosity to 10 (on Linux, `export AUTOGRAPH_VERBOSITY=10`) and attach the full output.\n",
      "Cause: 'arguments' object has no attribute 'posonlyargs'\n",
      "To silence this warning, decorate the function with @tf.autograph.experimental.do_not_convert\n"
     ]
    }
   ],
   "source": [
    "# loading the saved model\n",
    "model = load_model(\"./model_vgg.h5\")\n",
    "model_vgg_predictions, actual = make_predictions(model, \"shape\")"
   ]
  },
  {
   "cell_type": "code",
   "execution_count": 25,
   "id": "04823086",
   "metadata": {},
   "outputs": [
    {
     "name": "stdout",
     "output_type": "stream",
     "text": [
      "              precision    recall  f1-score   support\n",
      "\n",
      "           0       0.83      1.00      0.91         5\n",
      "           1       1.00      0.71      0.83         7\n",
      "           2       0.33      0.33      0.33         3\n",
      "           3       0.95      0.97      0.96        37\n",
      "           4       0.92      0.92      0.92        52\n",
      "\n",
      "    accuracy                           0.91       104\n",
      "   macro avg       0.81      0.79      0.79       104\n",
      "weighted avg       0.92      0.91      0.91       104\n",
      "\n",
      "[[ 5  0  0  0  0]\n",
      " [ 0  5  0  0  2]\n",
      " [ 0  0  1  0  2]\n",
      " [ 1  0  0 36  0]\n",
      " [ 0  0  2  2 48]]\n"
     ]
    }
   ],
   "source": [
    "print_confusion_matrix(model_vgg_predictions, actual, \"shape\")"
   ]
  },
  {
   "cell_type": "code",
   "execution_count": 26,
   "id": "529e90d6",
   "metadata": {
    "scrolled": true
   },
   "outputs": [
    {
     "name": "stdout",
     "output_type": "stream",
     "text": [
      "WARNING: AutoGraph could not transform <function Model.make_predict_function.<locals>.predict_function at 0x7f900299ab00> and will run it as-is.\n",
      "Please report this to the TensorFlow team. When filing the bug, set the verbosity to 10 (on Linux, `export AUTOGRAPH_VERBOSITY=10`) and attach the full output.\n",
      "Cause: 'arguments' object has no attribute 'posonlyargs'\n",
      "To silence this warning, decorate the function with @tf.autograph.experimental.do_not_convert\n"
     ]
    }
   ],
   "source": [
    "# loading the saved model\n",
    "model = load_model(\"./new_model_vgg2.h5\")\n",
    "new_model_vgg2_predictions, actual = make_predictions(model, \"type\")"
   ]
  },
  {
   "cell_type": "code",
   "execution_count": 27,
   "id": "e3b28ccc",
   "metadata": {
    "scrolled": true
   },
   "outputs": [
    {
     "name": "stdout",
     "output_type": "stream",
     "text": [
      "              precision    recall  f1-score   support\n",
      "\n",
      "           0       1.00      1.00      1.00         5\n",
      "           1       1.00      0.71      0.83         7\n",
      "           2       0.00      0.00      0.00         0\n",
      "           3       0.00      0.00      0.00         0\n",
      "           4       0.00      0.00      0.00         2\n",
      "           5       0.00      0.00      0.00         1\n",
      "           6       0.00      0.00      0.00        11\n",
      "           7       0.00      0.00      0.00        26\n",
      "           8       0.00      0.00      0.00        15\n",
      "           9       0.00      0.00      0.00         4\n",
      "          10       0.00      0.00      0.00        13\n",
      "          12       0.00      0.00      0.00         7\n",
      "          13       0.00      0.00      0.00         1\n",
      "          14       0.00      0.00      0.00         0\n",
      "          15       0.00      0.00      0.00        12\n",
      "\n",
      "    accuracy                           0.10       104\n",
      "   macro avg       0.13      0.11      0.12       104\n",
      "weighted avg       0.12      0.10      0.10       104\n",
      "\n",
      "[[ 5  0  0  0  0  0  0  0  0  0  0  0]\n",
      " [ 0  5  0  0  2  0  0  0  0  0  0  0]\n",
      " [ 0  0  0  0  0  0  0  0  0  0  0  0]\n",
      " [ 0  0  0  0  0  0  0  0  0  0  1  0]\n",
      " [ 0  0  0  0  0  0  0  0  0 11  0  0]\n",
      " [ 0  0  0  0  0  0  0  0  0  0 26  0]\n",
      " [ 0  0  0  1  6  0  0  1  0  0  2  2]\n",
      " [ 0  0  0  0  0  0  0  0  0  0  0  4]\n",
      " [ 0  0  0  0  1  0  0  0  0  0  2  0]\n",
      " [ 0  0  3  0  0  1  0  0  0  0  0  1]\n",
      " [ 0  0  0  0  0  0  0  0  0  0  0  0]\n",
      " [ 0  0  0  0  1  6  0  1  0  0  2  0]]\n"
     ]
    }
   ],
   "source": [
    "print_confusion_matrix(new_model_vgg2_predictions, actual, \"type\")"
   ]
  },
  {
   "cell_type": "code",
   "execution_count": 28,
   "id": "77a08372",
   "metadata": {},
   "outputs": [
    {
     "name": "stdout",
     "output_type": "stream",
     "text": [
      "WARNING: AutoGraph could not transform <function Model.make_predict_function.<locals>.predict_function at 0x7f90025cee60> and will run it as-is.\n",
      "Please report this to the TensorFlow team. When filing the bug, set the verbosity to 10 (on Linux, `export AUTOGRAPH_VERBOSITY=10`) and attach the full output.\n",
      "Cause: 'arguments' object has no attribute 'posonlyargs'\n",
      "To silence this warning, decorate the function with @tf.autograph.experimental.do_not_convert\n"
     ]
    }
   ],
   "source": [
    "# loading the saved model\n",
    "model = load_model(\"./new_model_vgg.h5\")\n",
    "new_model_vgg_predictions, actual = make_predictions(model, \"type\")"
   ]
  },
  {
   "cell_type": "code",
   "execution_count": 29,
   "id": "19d3d520",
   "metadata": {
    "scrolled": true
   },
   "outputs": [
    {
     "name": "stdout",
     "output_type": "stream",
     "text": [
      "              precision    recall  f1-score   support\n",
      "\n",
      "           0       1.00      1.00      1.00         5\n",
      "           1       1.00      0.71      0.83         7\n",
      "           2       0.00      0.00      0.00         0\n",
      "           4       0.00      0.00      0.00         2\n",
      "           5       0.00      0.00      0.00         1\n",
      "           6       0.00      0.00      0.00        11\n",
      "           7       0.00      0.00      0.00        26\n",
      "           8       0.00      0.00      0.00        15\n",
      "           9       0.00      0.00      0.00         4\n",
      "          10       0.00      0.00      0.00        13\n",
      "          12       0.00      0.00      0.00         7\n",
      "          13       0.00      0.00      0.00         1\n",
      "          14       0.00      0.00      0.00         0\n",
      "          15       0.00      0.00      0.00        12\n",
      "\n",
      "    accuracy                           0.10       104\n",
      "   macro avg       0.14      0.12      0.13       104\n",
      "weighted avg       0.12      0.10      0.10       104\n",
      "\n",
      "[[ 5  0  0  0  0  0  0  0  0  0  0  0]\n",
      " [ 0  5  0  0  2  0  0  0  0  0  0  0]\n",
      " [ 0  0  0  0  0  0  0  0  0  0  0  0]\n",
      " [ 0  0  0  0  0  0  0  1  0  0  0  0]\n",
      " [ 0  0  0  0  0  0  0  0  0 11  0  0]\n",
      " [ 0  0  0  0  0  0  0  1  0  0 25  0]\n",
      " [ 0  0  0  0  7  0  0  0  1  0  1  2]\n",
      " [ 0  0  0  0  0  1  0  0  0  0  0  3]\n",
      " [ 0  0  0  0  1  0  0  1  0  0  2  0]\n",
      " [ 0  0  1  0  1  3  0  0  0  0  0  0]\n",
      " [ 0  0  0  0  0  0  0  0  0  0  0  0]\n",
      " [ 0  0  0  0  1  4  0  0  0  0  0  0]]\n"
     ]
    }
   ],
   "source": [
    "print_confusion_matrix(new_model_vgg_predictions, actual, \"type\")"
   ]
  },
  {
   "cell_type": "code",
   "execution_count": 30,
   "id": "71002ceb",
   "metadata": {},
   "outputs": [
    {
     "name": "stdout",
     "output_type": "stream",
     "text": [
      "WARNING: AutoGraph could not transform <function Model.make_predict_function.<locals>.predict_function at 0x7f9002a9f560> and will run it as-is.\n",
      "Please report this to the TensorFlow team. When filing the bug, set the verbosity to 10 (on Linux, `export AUTOGRAPH_VERBOSITY=10`) and attach the full output.\n",
      "Cause: 'arguments' object has no attribute 'posonlyargs'\n",
      "To silence this warning, decorate the function with @tf.autograph.experimental.do_not_convert\n"
     ]
    }
   ],
   "source": [
    "# loading the saved model\n",
    "model = load_model(\"./new_model_lenet.h5\")\n",
    "new_model_lenet_predictions, actual = make_predictions(model, \"type\")"
   ]
  },
  {
   "cell_type": "code",
   "execution_count": 31,
   "id": "c15bd772",
   "metadata": {
    "scrolled": true
   },
   "outputs": [
    {
     "name": "stdout",
     "output_type": "stream",
     "text": [
      "              precision    recall  f1-score   support\n",
      "\n",
      "           0       0.67      0.80      0.73         5\n",
      "           1       0.75      0.43      0.55         7\n",
      "           2       0.00      0.00      0.00         0\n",
      "           3       0.00      0.00      0.00         0\n",
      "           4       0.00      0.00      0.00         2\n",
      "           5       0.00      0.00      0.00         1\n",
      "           6       0.00      0.00      0.00        11\n",
      "           7       0.00      0.00      0.00        26\n",
      "           8       0.00      0.00      0.00        15\n",
      "           9       0.00      0.00      0.00         4\n",
      "          10       0.00      0.00      0.00        13\n",
      "          11       0.00      0.00      0.00         0\n",
      "          12       0.00      0.00      0.00         7\n",
      "          13       0.04      1.00      0.07         1\n",
      "          14       0.00      0.00      0.00         0\n",
      "          15       0.00      0.00      0.00        12\n",
      "\n",
      "    accuracy                           0.08       104\n",
      "   macro avg       0.09      0.14      0.08       104\n",
      "weighted avg       0.08      0.08      0.07       104\n",
      "\n",
      "[[ 4  0  0  0  0  0  0  0  0  0  0  0]\n",
      " [ 0  3  1  2  1  0  0  0  0  0  0  0]\n",
      " [ 0  0  0  0  0  0  0  0  0  0  0  0]\n",
      " [ 0  0  0  0  0  0  0  1  0  0  0  0]\n",
      " [ 0  0  0  0  0  0  0  0  0 10  1  0]\n",
      " [ 2  0  0  0  0  0  0  0  0  3 18  0]\n",
      " [ 0  1  1  1  2  0  0  0  1  0  3  0]\n",
      " [ 0  0  0  0  0  0  0  0  0  0  0  2]\n",
      " [ 0  0  0  1  0  2  0  1  0  1  2  0]\n",
      " [ 0  0  5  0  0  0  0  0  0  0  1  0]\n",
      " [ 0  0  0  0  0  0  0  0  0  0  1  0]\n",
      " [ 0  0  0  0  0  7  0  0  1  0  0  0]]\n"
     ]
    }
   ],
   "source": [
    "print_confusion_matrix(new_model_lenet_predictions, actual, \"type\")"
   ]
  },
  {
   "cell_type": "code",
   "execution_count": 32,
   "id": "3e9de6af",
   "metadata": {},
   "outputs": [
    {
     "name": "stdout",
     "output_type": "stream",
     "text": [
      "WARNING: AutoGraph could not transform <function Model.make_predict_function.<locals>.predict_function at 0x7f9002de1b00> and will run it as-is.\n",
      "Please report this to the TensorFlow team. When filing the bug, set the verbosity to 10 (on Linux, `export AUTOGRAPH_VERBOSITY=10`) and attach the full output.\n",
      "Cause: 'arguments' object has no attribute 'posonlyargs'\n",
      "To silence this warning, decorate the function with @tf.autograph.experimental.do_not_convert\n"
     ]
    }
   ],
   "source": [
    "# loading the saved model\n",
    "model = load_model(\"./new_model_lenet2.h5\")\n",
    "new_model_lenet2_predictions, actual = make_predictions(model, \"type\")"
   ]
  },
  {
   "cell_type": "code",
   "execution_count": 33,
   "id": "6d69a617",
   "metadata": {
    "scrolled": true
   },
   "outputs": [
    {
     "name": "stdout",
     "output_type": "stream",
     "text": [
      "              precision    recall  f1-score   support\n",
      "\n",
      "           0       0.67      0.80      0.73         5\n",
      "           1       0.86      0.86      0.86         7\n",
      "           2       0.00      0.00      0.00         0\n",
      "           3       0.00      0.00      0.00         0\n",
      "           4       0.00      0.00      0.00         2\n",
      "           5       0.00      0.00      0.00         1\n",
      "           6       0.00      0.00      0.00        11\n",
      "           7       0.09      0.04      0.05        26\n",
      "           8       0.00      0.00      0.00        15\n",
      "           9       0.00      0.00      0.00         4\n",
      "          10       0.00      0.00      0.00        13\n",
      "          11       0.00      0.00      0.00         0\n",
      "          12       0.00      0.00      0.00         7\n",
      "          13       0.00      0.00      0.00         1\n",
      "          14       0.00      0.00      0.00         0\n",
      "          15       0.00      0.00      0.00        12\n",
      "\n",
      "    accuracy                           0.11       104\n",
      "   macro avg       0.10      0.11      0.10       104\n",
      "weighted avg       0.11      0.11      0.11       104\n",
      "\n",
      "[[ 4  0  0  0  0  1  0  0  0  0  0  0]\n",
      " [ 0  6  0  0  1  0  0  0  0  0  0  0]\n",
      " [ 0  0  0  0  0  0  0  0  0  0  0  0]\n",
      " [ 0  0  0  0  0  0  0  0  0  0  1  0]\n",
      " [ 0  0  0  0  0  0  0  0  0 10  1  0]\n",
      " [ 1  0  0  0  0  1  1  0  0  0 22  0]\n",
      " [ 0  1  1  1  1  0  0  0  1  1  5  0]\n",
      " [ 0  0  0  0  0  0  0  0  0  0  0  4]\n",
      " [ 1  0  0  0  0  0  0  0  0  0  2  0]\n",
      " [ 0  0  5  0  0  0  0  0  0  0  0  0]\n",
      " [ 0  0  0  0  0  0  0  0  0  0  0  1]\n",
      " [ 0  0  0  0  0  9  0  0  0  0  0  0]]\n"
     ]
    }
   ],
   "source": [
    "print_confusion_matrix(new_model_lenet2_predictions, actual, \"type\")"
   ]
  },
  {
   "cell_type": "code",
   "execution_count": null,
   "id": "97f63f08",
   "metadata": {},
   "outputs": [],
   "source": []
  }
 ],
 "metadata": {
  "kernelspec": {
   "display_name": "Python 3",
   "language": "python",
   "name": "python3"
  },
  "language_info": {
   "codemirror_mode": {
    "name": "ipython",
    "version": 3
   },
   "file_extension": ".py",
   "mimetype": "text/x-python",
   "name": "python",
   "nbconvert_exporter": "python",
   "pygments_lexer": "ipython3",
   "version": "3.7.10"
  }
 },
 "nbformat": 4,
 "nbformat_minor": 5
}
