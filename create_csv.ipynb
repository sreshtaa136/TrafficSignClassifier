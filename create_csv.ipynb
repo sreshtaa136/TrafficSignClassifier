{
 "cells": [
  {
   "cell_type": "code",
   "execution_count": 1,
   "id": "de813089",
   "metadata": {},
   "outputs": [],
   "source": [
    "import os\n",
    "import csv\n",
    "import numpy as np\n",
    "import zipfile"
   ]
  },
  {
   "cell_type": "code",
   "execution_count": 2,
   "id": "5d6d9095",
   "metadata": {},
   "outputs": [],
   "source": [
    "# unzipping the dataset of images\n",
    "with zipfile.ZipFile('./ASSORTED_ML.zip', 'r') as zip_ref:\n",
    "        zip_ref.extractall('./')"
   ]
  },
  {
   "cell_type": "code",
   "execution_count": 3,
   "id": "40d635b7",
   "metadata": {},
   "outputs": [
    {
     "data": {
      "text/plain": [
       "['diamond', 'hex', 'square', 'triangle', 'round']"
      ]
     },
     "execution_count": 3,
     "metadata": {},
     "output_type": "execute_result"
    }
   ],
   "source": [
    "# checking for corrupt images, invalid image types\n",
    "data = \"./ASSORTED_ML\"\n",
    "# selecting only folders with shape names\n",
    "sign_shapes = [shape for shape in os.listdir(f'{data}/') if '.' not in shape]\n",
    "sign_shapes"
   ]
  },
  {
   "cell_type": "code",
   "execution_count": 4,
   "id": "6bdbdc24",
   "metadata": {},
   "outputs": [],
   "source": [
    "sign_to_int = {\n",
    " 'rightofway': 0,\n",
    " 'stop': 1,\n",
    " 'laneend': 2,\n",
    " 'parking': 3,\n",
    " 'continue': 4,\n",
    " 'crossing': 5,\n",
    " 'giveway': 6,\n",
    " 'warning': 7,\n",
    " 'traveldirection': 8,\n",
    " 'limitedtraffic': 9,\n",
    " 'speed': 10,\n",
    " 'roundabout': 11,\n",
    " 'noentry': 12,\n",
    " 'noparking': 13,\n",
    " 'bicycle': 14,\n",
    " 'trafficdirective': 15}"
   ]
  },
  {
   "cell_type": "code",
   "execution_count": 5,
   "id": "c07ad469",
   "metadata": {},
   "outputs": [],
   "source": [
    "# collecting image names and their classes (sign-shapes)\n",
    "# to fill the csv file\n",
    "header = ['img_id','sign_shape','sign_type']\n",
    "csv_data = []\n",
    "# mapping values for target column (sign_shape)\n",
    "shape_to_int = {'diamond':'0', 'hex':'1', 'square':'2', 'triangle':'3', 'round':'4'}\n",
    "\n",
    "for sign_shape in sign_shapes:\n",
    "    img_class = shape_to_int[sign_shape]\n",
    "    sign_types = [sign_type for sign_type in os.listdir(f'{data}/{sign_shape}') if '.' not in sign_type]\n",
    "    for sign_type in sign_types:\n",
    "        imgs = [img for img in os.listdir(f'{data}/{sign_shape}/{sign_type}') if img.endswith('.ppm')]\n",
    "        for img in imgs:\n",
    "            row = []\n",
    "#             img_path = f'{data}/{sign_shape}/{sign_type}/' + img.split('.ppm')[0] + '.png'\n",
    "#             img_path = f'{data}/{sign_shape}/{sign_type}/' + img\n",
    "#             row.append(img_path)\n",
    "            img_id = img.split('.ppm')[0] + '.png'\n",
    "            row.append(img_id)\n",
    "            row.append(img_class)\n",
    "            row.append(sign_to_int[sign_type])\n",
    "            csv_data.append(row)"
   ]
  },
  {
   "cell_type": "code",
   "execution_count": 6,
   "id": "26f309bb",
   "metadata": {},
   "outputs": [],
   "source": [
    "# writing collected data to the csv file\n",
    "with open('./external_images_actual.csv', 'w', encoding='UTF8', newline='') as f:\n",
    "        writer = csv.writer(f)\n",
    "        # write the header\n",
    "        writer.writerow(header)\n",
    "        # write multiple rows\n",
    "        writer.writerows(csv_data)"
   ]
  },
  {
   "cell_type": "code",
   "execution_count": null,
   "id": "f8759e21",
   "metadata": {},
   "outputs": [],
   "source": []
  }
 ],
 "metadata": {
  "kernelspec": {
   "display_name": "Python 3",
   "language": "python",
   "name": "python3"
  },
  "language_info": {
   "codemirror_mode": {
    "name": "ipython",
    "version": 3
   },
   "file_extension": ".py",
   "mimetype": "text/x-python",
   "name": "python",
   "nbconvert_exporter": "python",
   "pygments_lexer": "ipython3",
   "version": "3.7.10"
  }
 },
 "nbformat": 4,
 "nbformat_minor": 5
}
